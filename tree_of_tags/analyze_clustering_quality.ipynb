{
 "cells": [
  {
   "cell_type": "code",
   "execution_count": null,
   "metadata": {},
   "outputs": [],
   "source": [
    "import logging\n",
    "\n",
    "# logging.basicConfig(level=logging.INFO)\n",
    "logging.basicConfig(level=logging.WARN)\n",
    "\n",
    "from data import Data\n",
    "from engine import Engine, TreeClimber\n",
    "from html_builder import HTMLBuilder\n",
    "from krakow import krakow\n",
    "from krakow.utils import create_dendrogram, normalized_dasgupta_cost\n",
    "\n",
    "import matplotlib.pyplot as plt\n",
    "\n",
    "import io\n",
    "from PIL import Image\n",
    "\n",
    "import numpy as np"
   ]
  },
  {
   "cell_type": "code",
   "execution_count": null,
   "metadata": {},
   "outputs": [],
   "source": [
    "def _depth_of_leaves(tree):\n",
    "    if tree.is_leaf():\n",
    "        return [0]\n",
    "    \n",
    "    left = _depth_of_leaves(tree.left)\n",
    "    right = _depth_of_leaves(tree.right)\n",
    "\n",
    "    return [depth + 1 for depth in left + right]\n",
    "\n",
    "def get_disbalance(tree):\n",
    "    \"\"\"\n",
    "    how much higher is the average leaf depth, than in an ideally balanced tree\n",
    "    \"\"\"\n",
    "    depths = _depth_of_leaves(tree)\n",
    "    return np.average(depths) - np.log2(tree.count)\n",
    "\n",
    "\n",
    "def _balance_on_single_node(node):\n",
    "    \"\"\"\n",
    "    ideal balance (0.5, 0.5) gives a score 0\n",
    "    any inbalance returns negative score\n",
    "    \"\"\"\n",
    "    if node.is_leaf() or node.left.is_leaf() or node.right.is_leaf():\n",
    "        # TODO is this robust? maybe give some penalty instead\n",
    "        # this will never be a problem if we stay near the top layers\n",
    "        return 0\n",
    "    left_ratio = node.left.count / node.count\n",
    "    right_ratio = node.right.count / node.count\n",
    "    return 2 + np.log2(left_ratio) + np.log2(right_ratio)\n",
    "\n",
    "\n",
    "def get_top_levels_balance_log(tree, levels=5):\n",
    "    \"\"\"\n",
    "    how disbalanced are top levels of the tree\n",
    "    any inbalance returns negative score, 0 is perfect\n",
    "    \"\"\"\n",
    "    balance_on_levels = []\n",
    "\n",
    "    nodes = [tree]\n",
    "    for _ in range(levels):\n",
    "        balances_on_one_level = [_balance_on_single_node(node) for node in nodes]\n",
    "        balance_on_levels.append(np.average(balances_on_one_level))\n",
    "\n",
    "        new_nodes = []\n",
    "        for node in nodes:\n",
    "            if node.is_leaf():\n",
    "                continue\n",
    "            if node.left is not None:\n",
    "                new_nodes.append(node.left)\n",
    "            if node.right is not None:\n",
    "                new_nodes.append(node.right)\n",
    "        nodes = new_nodes\n",
    "\n",
    "    return np.average(balance_on_levels)"
   ]
  },
  {
   "cell_type": "code",
   "execution_count": null,
   "metadata": {},
   "outputs": [],
   "source": [
    "for alpha in [1, 1.5, 2, 2.5, 3, 3.5, 4]:\n",
    "    data = Data(alpha=alpha, use_cached_forum_data=True)\n",
    "    img = create_dendrogram(data._dendrogram)\n",
    "    print(f\"\\nalpha = {alpha}\")\n",
    "    print(f\"Disbalance: {get_disbalance(data.tree):.3f}\")\n",
    "    print(f\"Top levels balance: {get_top_levels_balance_log(data.tree):.3f}\")\n",
    "    print(f\"Clustering quality: {1 - normalized_dasgupta_cost(data.Tag_cooccurence, data._dendrogram):.3f}\")\n",
    "    display(Image.open(img))"
   ]
  },
  {
   "cell_type": "code",
   "execution_count": null,
   "metadata": {},
   "outputs": [],
   "source": [
    "balances = []\n",
    "top_balances = []\n",
    "clustering_qualities = []\n",
    "alphas = np.linspace(1, 3, num=21)\n",
    "for alpha in alphas:\n",
    "    data = Data(alpha=alpha, use_cached_forum_data=True)\n",
    "    balances.append(get_disbalance(data.tree))\n",
    "    top_balances.append(get_top_levels_balance_log(data.tree, levels=5))\n",
    "    clustering_qualities.append(1 - normalized_dasgupta_cost(data.Tag_cooccurence, data._dendrogram))"
   ]
  },
  {
   "cell_type": "code",
   "execution_count": null,
   "metadata": {},
   "outputs": [],
   "source": [
    "# plot balances and clusterig qualities, with different scales\n",
    "plt.plot(alphas, top_balances, label=\"top levels balance\")\n",
    "plt.legend()"
   ]
  },
  {
   "cell_type": "code",
   "execution_count": null,
   "metadata": {},
   "outputs": [],
   "source": [
    "plt.plot(alphas, clustering_qualities, label=\"clustering quality\")\n",
    "plt.legend()"
   ]
  },
  {
   "cell_type": "code",
   "execution_count": null,
   "metadata": {},
   "outputs": [],
   "source": [
    "plt.plot(alphas, balances, label=\"disbalance\")\n",
    "plt.legend()"
   ]
  }
 ],
 "metadata": {
  "kernelspec": {
   "display_name": "Python 3.10.5 64-bit",
   "language": "python",
   "name": "python3"
  },
  "language_info": {
   "codemirror_mode": {
    "name": "ipython",
    "version": 3
   },
   "file_extension": ".py",
   "mimetype": "text/x-python",
   "name": "python",
   "nbconvert_exporter": "python",
   "pygments_lexer": "ipython3",
   "version": "3.10.5"
  },
  "vscode": {
   "interpreter": {
    "hash": "e7370f93d1d0cde622a1f8e1c04877d8463912d04d973331ad4851f04de6915a"
   }
  }
 },
 "nbformat": 4,
 "nbformat_minor": 2
}
