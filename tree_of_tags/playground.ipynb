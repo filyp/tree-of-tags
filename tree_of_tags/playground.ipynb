{
 "cells": [
  {
   "cell_type": "code",
   "execution_count": null,
   "metadata": {},
   "outputs": [],
   "source": [
    "from data import Data\n",
    "from engine import Engine, TreeClimber\n",
    "from html_builder import HTMLBuilder\n",
    "from krakow import krakow\n",
    "from krakow.utils import create_dendrogram, normalized_dasgupta_cost\n",
    "\n",
    "import matplotlib.pyplot as plt\n",
    "\n",
    "import io\n",
    "from PIL import Image\n",
    "\n",
    "import numpy as np"
   ]
  },
  {
   "cell_type": "code",
   "execution_count": null,
   "metadata": {},
   "outputs": [],
   "source": [
    "# data = Data(alpha=15, use_cached_forum_data=True, forum=\"lw\")\n",
    "data = Data(alpha=9, use_cached_forum_data=True, forum=\"ea\")\n",
    "climber = TreeClimber(data)\n",
    "engine = Engine(data, climber)"
   ]
  },
  {
   "cell_type": "code",
   "execution_count": null,
   "metadata": {},
   "outputs": [],
   "source": []
  },
  {
   "cell_type": "code",
   "execution_count": null,
   "metadata": {},
   "outputs": [],
   "source": []
  },
  {
   "cell_type": "markdown",
   "metadata": {},
   "source": [
    "# Analyze cracy of posts"
   ]
  },
  {
   "cell_type": "code",
   "execution_count": null,
   "metadata": {},
   "outputs": [],
   "source": [
    "# filter out posts where one of the scores is negative\n",
    "filtered_posts = [post for post in data.posts.values() if post.democraticScore > 0 and post.meritocraticScore > 0]\n",
    "# find the median ratio\n",
    "_demo = np.array([post[\"democraticScore\"] for post in filtered_posts])\n",
    "_meri = np.array([post[\"meritocraticScore\"] for post in filtered_posts])\n",
    "median_ratio = np.median(_meri / _demo)\n",
    "\n",
    "# make the axes equal and rectangular\n",
    "plt.figure(figsize=(10,10))\n",
    "# chop off at 0\n",
    "plt.xlim(0, 350)\n",
    "plt.ylim(0, 350)\n",
    "# plot line with a slope of the median ratio\n",
    "plt.plot([0, 350], [0, 350*median_ratio], color=\"white\", linewidth=0.5)\n",
    "plt.scatter(_demo, _meri, s=1)"
   ]
  },
  {
   "cell_type": "code",
   "execution_count": null,
   "metadata": {},
   "outputs": [],
   "source": [
    "f = lambda p: p.democraticScore\n",
    "\n",
    "sorted_posts = sorted([post for post in filtered_posts if post.democraticScore*median_ratio > post.meritocraticScore], key=f, reverse=True)[:25]\n",
    "for post in sorted_posts:\n",
    "    print(f\"{post.bigDownvotes:3} {post.smallDownvotes:3} {post.smallUpvotes:3} {post.bigUpvotes:3}     {post.democraticScore:3} {post.baseScore:3} {post.meritocraticScore:3}     {post.cracy:.3f} {post.title}\")"
   ]
  },
  {
   "cell_type": "code",
   "execution_count": null,
   "metadata": {},
   "outputs": [],
   "source": [
    "f = lambda p: p.meritocraticScore\n",
    "\n",
    "sorted_posts = sorted([post for post in filtered_posts if post.democraticScore*median_ratio <= post.meritocraticScore], key=f, reverse=True)[:25]\n",
    "for post in sorted_posts:\n",
    "    print(f\"{post.bigDownvotes:3} {post.smallDownvotes:3} {post.smallUpvotes:3} {post.bigUpvotes:3}     {post.democraticScore:3} {post.baseScore:3} {post.meritocraticScore:3}     {post.cracy:.3f} {post.title}\")"
   ]
  },
  {
   "cell_type": "code",
   "execution_count": null,
   "metadata": {},
   "outputs": [],
   "source": []
  },
  {
   "cell_type": "markdown",
   "metadata": {},
   "source": [
    "# Analyze overlap of tags"
   ]
  },
  {
   "cell_type": "code",
   "execution_count": null,
   "metadata": {},
   "outputs": [],
   "source": [
    "# find tags with highest cooccurence\n",
    "cooccurence_data = [(u, v, edge_data[\"weight\"]) for u, v, edge_data in data.Tag_cooccurence.edges(data=True)]\n",
    "\n",
    "# normalize cooccurences by the size of two tags\n",
    "normalized_cooccurences = dict()\n",
    "for u, v, cooccurence in cooccurence_data:\n",
    "    u_size = data.Tag_cooccurence[u][u][\"weight\"]\n",
    "    v_size = data.Tag_cooccurence[v][v][\"weight\"]\n",
    "    sum_of_occurence = u_size + v_size - cooccurence\n",
    "    normalized_cooccurences[(u, v)] = cooccurence / sum_of_occurence\n",
    "\n",
    "# sort by normalized cooccurence\n",
    "sorted_cooccurences = sorted(normalized_cooccurences.items(), key=lambda x: x[1], reverse=True)\n",
    "\n",
    "# print tags with highest overlap\n",
    "for (u, v), cooccurence in sorted_cooccurences:\n",
    "    if u == v:\n",
    "        continue\n",
    "    print(f'{data.tags[u][\"name\"]:30} {data.tags[v][\"name\"]:30} {cooccurence:.3f}')"
   ]
  },
  {
   "cell_type": "code",
   "execution_count": null,
   "metadata": {},
   "outputs": [],
   "source": []
  },
  {
   "cell_type": "code",
   "execution_count": null,
   "metadata": {},
   "outputs": [],
   "source": [
    "for post in data.posts.values():\n",
    "    print(post[\"commentCount\"])\n",
    "    # if post[\"commentCount\"] is None:\n",
    "    #     print(post[\"title\"])"
   ]
  },
  {
   "cell_type": "code",
   "execution_count": null,
   "metadata": {},
   "outputs": [],
   "source": []
  },
  {
   "cell_type": "code",
   "execution_count": null,
   "metadata": {},
   "outputs": [],
   "source": []
  },
  {
   "cell_type": "code",
   "execution_count": null,
   "metadata": {},
   "outputs": [],
   "source": []
  },
  {
   "cell_type": "code",
   "execution_count": null,
   "metadata": {},
   "outputs": [],
   "source": [
    "tag_scores = dict()\n",
    "for post in data.posts.values():\n",
    "    for tag, relevance in post[\"tagRelevance\"].items():\n",
    "        if tag not in tag_scores:\n",
    "            tag_scores[tag] = []\n",
    "        tag_scores[tag].append((post[\"baseScore\"], relevance))"
   ]
  },
  {
   "cell_type": "code",
   "execution_count": null,
   "metadata": {},
   "outputs": [],
   "source": [
    "# tags_sorted_by_quality = sorted(tag_quality.items(), key=lambda x: np.average(x[1][0], weights=x[1][1]), reverse=True)\n",
    "\n",
    "tag_qualities = dict()\n",
    "for tag, scores_and_relevances in tag_scores.items():\n",
    "    scores, relevances = zip(*scores_and_relevances)\n",
    "    quality = np.average(scores, weights=relevances)\n",
    "    tag_qualities[tag] = quality\n",
    "\n",
    "tags_sorted_by_quality = sorted(tag_qualities.items(), key=lambda x: x[1], reverse=True)\n"
   ]
  },
  {
   "cell_type": "code",
   "execution_count": null,
   "metadata": {},
   "outputs": [],
   "source": [
    "for tag_id, quality in tags_sorted_by_quality:\n",
    "    scores = [score for score, relevance in tag_scores[tag_id]]\n",
    "    if len(scores) < 2:\n",
    "        continue\n",
    "    if tag_id not in data.tags:\n",
    "        print(f\"{tag_id} not in tags\")\n",
    "        continue\n",
    "    print(f'{data.tags[tag_id][\"name\"]:50} {quality:.0f}     {scores}')"
   ]
  },
  {
   "cell_type": "code",
   "execution_count": null,
   "metadata": {},
   "outputs": [],
   "source": []
  },
  {
   "cell_type": "code",
   "execution_count": null,
   "metadata": {},
   "outputs": [],
   "source": []
  },
  {
   "cell_type": "code",
   "execution_count": null,
   "metadata": {},
   "outputs": [],
   "source": []
  },
  {
   "cell_type": "code",
   "execution_count": null,
   "metadata": {},
   "outputs": [],
   "source": []
  },
  {
   "cell_type": "markdown",
   "metadata": {},
   "source": [
    "# Analyze score distribution"
   ]
  },
  {
   "cell_type": "code",
   "execution_count": null,
   "metadata": {},
   "outputs": [],
   "source": [
    "scores = [post[\"baseScore\"] for post in data.posts.values()]"
   ]
  },
  {
   "cell_type": "code",
   "execution_count": null,
   "metadata": {},
   "outputs": [],
   "source": [
    "# plot histogram of scores\n",
    "plt.hist(scores, bins=100, range=(-10, 200))\n",
    "None"
   ]
  },
  {
   "cell_type": "code",
   "execution_count": null,
   "metadata": {},
   "outputs": [],
   "source": [
    "log_scores = np.log(np.clip(scores, 1, None))"
   ]
  },
  {
   "cell_type": "code",
   "execution_count": null,
   "metadata": {},
   "outputs": [],
   "source": [
    "# plot histogram of log scores\n",
    "plt.hist(log_scores, bins=50)\n",
    "None"
   ]
  },
  {
   "cell_type": "code",
   "execution_count": null,
   "metadata": {},
   "outputs": [],
   "source": [
    "sorted_posts = sorted(data.posts.values(), key=lambda x: x[\"baseScore\"], reverse=True)"
   ]
  },
  {
   "cell_type": "code",
   "execution_count": null,
   "metadata": {},
   "outputs": [],
   "source": [
    "sorted_posts[-2]"
   ]
  },
  {
   "cell_type": "code",
   "execution_count": null,
   "metadata": {},
   "outputs": [],
   "source": [
    "# find which percentile a score 52\n",
    "percentile = np.percentile(scores, 80.2)\n",
    "percentile"
   ]
  },
  {
   "cell_type": "code",
   "execution_count": null,
   "metadata": {},
   "outputs": [],
   "source": [
    "\n"
   ]
  },
  {
   "cell_type": "markdown",
   "metadata": {},
   "source": [
    "# Investigate tags present in posts, but not listed by GraphQL query"
   ]
  },
  {
   "cell_type": "code",
   "execution_count": null,
   "metadata": {},
   "outputs": [],
   "source": [
    "for post in data.posts.values():\n",
    "    if \"ZJEM3pibQmic8Rp5G\" in post[\"tagRelevance\"]:\n",
    "        print(post)\n",
    "        print()"
   ]
  },
  {
   "cell_type": "code",
   "execution_count": null,
   "metadata": {},
   "outputs": [],
   "source": [
    "for tag in data.tags.values():\n",
    "    if tag[\"name\"] == \"Community\":\n",
    "        print(tag)\n",
    "        print()"
   ]
  },
  {
   "cell_type": "code",
   "execution_count": null,
   "metadata": {},
   "outputs": [],
   "source": [
    "data.tags[\"Sgx48Pf8PzmTxSEEG\"]"
   ]
  },
  {
   "cell_type": "code",
   "execution_count": null,
   "metadata": {},
   "outputs": [],
   "source": [
    "\"Community\" \"Frontpage\""
   ]
  },
  {
   "cell_type": "code",
   "execution_count": null,
   "metadata": {},
   "outputs": [],
   "source": []
  },
  {
   "cell_type": "code",
   "execution_count": null,
   "metadata": {},
   "outputs": [],
   "source": [
    "data.posts[\"rDAZancpWpMwxjoFg\"]"
   ]
  },
  {
   "cell_type": "code",
   "execution_count": null,
   "metadata": {},
   "outputs": [],
   "source": []
  }
 ],
 "metadata": {
  "kernelspec": {
   "display_name": "Python 3.10.5 64-bit",
   "language": "python",
   "name": "python3"
  },
  "language_info": {
   "codemirror_mode": {
    "name": "ipython",
    "version": 3
   },
   "file_extension": ".py",
   "mimetype": "text/x-python",
   "name": "python",
   "nbconvert_exporter": "python",
   "pygments_lexer": "ipython3",
   "version": "3.10.5"
  },
  "vscode": {
   "interpreter": {
    "hash": "e7370f93d1d0cde622a1f8e1c04877d8463912d04d973331ad4851f04de6915a"
   }
  }
 },
 "nbformat": 4,
 "nbformat_minor": 2
}
