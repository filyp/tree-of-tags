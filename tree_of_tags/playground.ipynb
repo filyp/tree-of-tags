{
 "cells": [
  {
   "cell_type": "code",
   "execution_count": 1,
   "metadata": {},
   "outputs": [],
   "source": [
    "from data import Data\n",
    "from engine import Engine, TreeClimber\n",
    "from html_builder import HTMLBuilder"
   ]
  },
  {
   "cell_type": "code",
   "execution_count": 2,
   "metadata": {},
   "outputs": [
    {
     "name": "stderr",
     "output_type": "stream",
     "text": [
      "INFO:data:Removed 46 tags present in posts but not in fetched tags\n",
      "INFO:data:Removed 3 tags which don't cooccure with any other tags\n"
     ]
    }
   ],
   "source": [
    "data = Data(alpha=1.9, use_cached_forum_data=True)\n",
    "climber = TreeClimber(data)\n",
    "engine = Engine(data, climber)"
   ]
  },
  {
   "cell_type": "code",
   "execution_count": 3,
   "metadata": {},
   "outputs": [],
   "source": [
    "builder = HTMLBuilder()\n",
    "\n",
    "def generate_branches(id_, depth=3):\n",
    "    if depth == 0:\n",
    "        return\n",
    "\n",
    "    # generate current node\n",
    "    builder.build_page(\n",
    "        f\"{id_}.html\",\n",
    "        engine.get_best_left_tags(),\n",
    "        engine.get_best_right_tags(),\n",
    "        engine.get_best_left_posts(),\n",
    "        engine.get_best_right_posts()\n",
    "    )\n",
    "\n",
    "    # generate left branch\n",
    "    if not engine.climber.current_branch.left.is_leaf():\n",
    "        engine.choose_left()\n",
    "        generate_branches(id_ + \"0\", depth - 1)\n",
    "        engine.go_back()\n",
    "\n",
    "    # generate right branch\n",
    "    if not engine.climber.current_branch.right.is_leaf():\n",
    "        engine.choose_right()\n",
    "        generate_branches(id_ + \"1\", depth - 1)\n",
    "        engine.go_back()"
   ]
  },
  {
   "cell_type": "code",
   "execution_count": 4,
   "metadata": {},
   "outputs": [],
   "source": [
    "generate_branches(\"a\", depth=50)"
   ]
  },
  {
   "cell_type": "code",
   "execution_count": null,
   "metadata": {},
   "outputs": [],
   "source": []
  }
 ],
 "metadata": {
  "kernelspec": {
   "display_name": "Python 3.10.5 64-bit",
   "language": "python",
   "name": "python3"
  },
  "language_info": {
   "codemirror_mode": {
    "name": "ipython",
    "version": 3
   },
   "file_extension": ".py",
   "mimetype": "text/x-python",
   "name": "python",
   "nbconvert_exporter": "python",
   "pygments_lexer": "ipython3",
   "version": "3.10.5"
  },
  "orig_nbformat": 4,
  "vscode": {
   "interpreter": {
    "hash": "e7370f93d1d0cde622a1f8e1c04877d8463912d04d973331ad4851f04de6915a"
   }
  }
 },
 "nbformat": 4,
 "nbformat_minor": 2
}
